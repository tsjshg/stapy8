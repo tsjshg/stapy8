{
 "cells": [
  {
   "cell_type": "markdown",
   "metadata": {
    "slideshow": {
     "slide_type": "slide"
    }
   },
   "source": [
    "# MQTTで亀を操る\n",
    "\n",
    "## 辻 真吾（@tsjshg)\n",
    "### みんなのPython勉強会#8\n",
    "### 2016/1/8"
   ]
  },
  {
   "cell_type": "markdown",
   "metadata": {
    "slideshow": {
     "slide_type": "slide"
    }
   },
   "source": [
    "## 自己紹介\n",
    "* 1975年8月3日生まれ（今年は大厄）\n",
    "* 東京大学先端科学技術研究センターゲノムサイエンス分野（来週失業予定）\n",
    "* Pythonを使ったデータ解析が結構得意\n",
    "* 勢いのあるPythonの普及を、さらに加速させたい！"
   ]
  },
  {
   "cell_type": "markdown",
   "metadata": {
    "slideshow": {
     "slide_type": "slide"
    }
   },
   "source": [
    "## まずはデモから"
   ]
  },
  {
   "cell_type": "code",
   "execution_count": null,
   "metadata": {
    "collapsed": true,
    "slideshow": {
     "slide_type": "slide"
    }
   },
   "outputs": [],
   "source": [
    "# 指揮官側（送信側）\n",
    "import paho.mqtt.client as mqtt\n",
    "import time\n",
    "import random\n",
    "import struct\n",
    "\n",
    "client = mqtt.Client()\n",
    "client.connect(\"test.mosquitto.org\", 1883)\n",
    "\n",
    "def move():\n",
    "\tcmd = random.choice(['forward','backward','circle'])\n",
    "\targ = random.choice([10,20,40])\n",
    "\treturn '{}:{}'.format(cmd, arg)\n",
    "\n",
    "def rotate():\n",
    "\tcmd = random.choice(['left','right'])\n",
    "\targ = random.randint(0,360)\n",
    "\treturn '{}:{}'.format(cmd, arg)\n",
    "\n",
    "def cmd_gen():\n",
    "\treturn random.choice([move, rotate])()\n",
    "\n",
    "while client.loop() == 0:\n",
    "\tclient.publish(\"/tsjshg.info/kame_cmd\", cmd_gen(), 0, False)\n",
    "\ttime.sleep(2)"
   ]
  },
  {
   "cell_type": "code",
   "execution_count": null,
   "metadata": {
    "collapsed": false,
    "slideshow": {
     "slide_type": "slide"
    }
   },
   "outputs": [],
   "source": [
    "# カメ側（受け手側）\n",
    "import paho.mqtt.client as mqtt\n",
    "import turtle\n",
    "\n",
    "def on_message(client, userdata, msg):\n",
    "\tprint(msg.payload)\n",
    "\tcmd = msg.payload.decode('utf-8').split(':')\n",
    "\tgetattr(client.kame, cmd[0])(int(cmd[1]))\n",
    "\n",
    "def make_kame():\n",
    "\tturtle.setup(400,400)\n",
    "\tkame = turtle.Turtle()\n",
    "\tkame.shape('turtle')\n",
    "\tkame.shapesize(2,2,3)\n",
    "\treturn kame\n",
    "\n",
    "client = mqtt.Client()\n",
    "client.on_message = on_message\n",
    "client.connect(\"test.mosquitto.org\", 1883)\n",
    "client.subscribe('/tsjshg.info/kame_cmd')\n",
    "client.kame = make_kame()\n",
    "\n",
    "while client.loop() == 0:\n",
    "\tpass"
   ]
  },
  {
   "cell_type": "markdown",
   "metadata": {
    "slideshow": {
     "slide_type": "slide"
    }
   },
   "source": [
    "## MQTTとは？\n",
    "* publish/subscribe型の軽量なメッセージングプロトコル\n",
    "* IoT、M2Mの分野で注目されている（と思う）\n",
    "\n",
    "<img src=\"MQTT_overview.png\">"
   ]
  },
  {
   "cell_type": "markdown",
   "metadata": {
    "slideshow": {
     "slide_type": "subslide"
    }
   },
   "source": [
    "## MQTTについてもう少し\n",
    "* 本家サイト http://mqtt.org\n",
    "* 今回使ったBroker（Mosquitto） http://mosquitto.org\n",
    "* Pythonを含むクライアントライブラリ（Paho） http://www.eclipse.org/paho/"
   ]
  },
  {
   "cell_type": "markdown",
   "metadata": {
    "slideshow": {
     "slide_type": "subslide"
    }
   },
   "source": [
    "## 準備\n",
    "$ pip install paho-mqtt"
   ]
  },
  {
   "cell_type": "markdown",
   "metadata": {
    "slideshow": {
     "slide_type": "slide"
    }
   },
   "source": [
    "## コード解説（指揮官側）\n",
    "#### publish側"
   ]
  },
  {
   "cell_type": "code",
   "execution_count": null,
   "metadata": {
    "collapsed": true,
    "slideshow": {
     "slide_type": "subslide"
    }
   },
   "outputs": [],
   "source": [
    "# クライアントのインスタンスを生成して、Brokerに接続\n",
    "client = mqtt.Client()\n",
    "client.connect(\"test.mosquitto.org\", 1883)\n",
    "# 無料で誰でも利用できるBrokerが公開されている"
   ]
  },
  {
   "cell_type": "code",
   "execution_count": null,
   "metadata": {
    "collapsed": true,
    "slideshow": {
     "slide_type": "subslide"
    }
   },
   "outputs": [],
   "source": [
    "# 送信するpayload\n",
    "# メソッド名と引数を：で繋いだ文字列を作る\n",
    "def move():\n",
    "\tcmd = random.choice(['forward','backward','circle'])\n",
    "\targ = random.choice([10,20,40])\n",
    "\treturn '{}:{}'.format(cmd, arg)"
   ]
  },
  {
   "cell_type": "code",
   "execution_count": null,
   "metadata": {
    "collapsed": false,
    "scrolled": true,
    "slideshow": {
     "slide_type": "subslide"
    }
   },
   "outputs": [],
   "source": [
    "# 作成したpayloadをpublishして2秒待つを繰り返す\n",
    "while client.loop() == 0:\n",
    "\tclient.publish(\"/tsjshg.info/kame_cmd\", cmd_gen(), 0, False)\n",
    "\ttime.sleep(2)"
   ]
  },
  {
   "cell_type": "markdown",
   "metadata": {
    "slideshow": {
     "slide_type": "slide"
    }
   },
   "source": [
    "## コード解説（カメ側）\n",
    "#### subscribe側"
   ]
  },
  {
   "cell_type": "code",
   "execution_count": null,
   "metadata": {
    "collapsed": true,
    "slideshow": {
     "slide_type": "subslide"
    }
   },
   "outputs": [],
   "source": [
    "# Pythonスタートブックでお馴染みの\n",
    "# turtleモジュールを使ってカメを用意\n",
    "def make_kame():\n",
    "\tturtle.setup(400,400)\n",
    "\tkame = turtle.Turtle()\n",
    "\tkame.shape('turtle')\n",
    "\tkame.shapesize(2,2,3)\n",
    "\treturn kame"
   ]
  },
  {
   "cell_type": "code",
   "execution_count": null,
   "metadata": {
    "collapsed": true,
    "slideshow": {
     "slide_type": "subslide"
    }
   },
   "outputs": [],
   "source": [
    "# クライアントのインスタンスを生成\n",
    "client = mqtt.Client()\n",
    "# 後で解説\n",
    "client.on_message = on_message\n",
    "# 接続は、publish側と同じ\n",
    "client.connect(\"test.mosquitto.org\", 1883)\n",
    "# subscribeするtopicを指定\n",
    "client.subscribe('/tsjshg.info/kame_cmd')\n",
    "# インスタンス変数にturtle.Turtleのインスタンスを格納（Python便利）\n",
    "client.kame = make_kame()"
   ]
  },
  {
   "cell_type": "code",
   "execution_count": null,
   "metadata": {
    "collapsed": true,
    "slideshow": {
     "slide_type": "subslide"
    }
   },
   "outputs": [],
   "source": [
    "# メッセージをsubscribeしたときに呼び出される関数\n",
    "def on_message(client, userdata, msg):\n",
    "\tprint(msg.payload)\n",
    "\tcmd = msg.payload.decode('utf-8').split(':')\n",
    "\tgetattr(client.kame, cmd[0])(int(cmd[1]))"
   ]
  },
  {
   "cell_type": "code",
   "execution_count": 6,
   "metadata": {
    "collapsed": false,
    "slideshow": {
     "slide_type": "subslide"
    }
   },
   "outputs": [
    {
     "data": {
      "text/plain": [
       "'ABCD'"
      ]
     },
     "execution_count": 6,
     "metadata": {},
     "output_type": "execute_result"
    }
   ],
   "source": [
    "# 組み込み関数getattrを使うと、文字列でメソッド（属性）を呼び出せる\n",
    "s = 'ABC{}'\n",
    "# 以下の2つは同じ意味\n",
    "s.format('D')\n",
    "getattr(s, 'format')('D')"
   ]
  },
  {
   "cell_type": "markdown",
   "metadata": {
    "slideshow": {
     "slide_type": "slide"
    }
   },
   "source": [
    "## 時間があれば2匹のランデブー"
   ]
  },
  {
   "cell_type": "markdown",
   "metadata": {
    "slideshow": {
     "slide_type": "slide"
    }
   },
   "source": [
    "## おしまい\n",
    "ご質問ありましたらご遠慮なく"
   ]
  }
 ],
 "metadata": {
  "celltoolbar": "Slideshow",
  "kernelspec": {
   "display_name": "Python 2",
   "language": "python",
   "name": "python2"
  },
  "language_info": {
   "codemirror_mode": {
    "name": "ipython",
    "version": 2
   },
   "file_extension": ".py",
   "mimetype": "text/x-python",
   "name": "python",
   "nbconvert_exporter": "python",
   "pygments_lexer": "ipython2",
   "version": "2.7.11"
  }
 },
 "nbformat": 4,
 "nbformat_minor": 0
}
